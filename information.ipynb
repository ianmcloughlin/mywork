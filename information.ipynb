{
 "cells": [
  {
   "cell_type": "markdown",
   "metadata": {},
   "source": [
    "# Information"
   ]
  },
  {
   "cell_type": "markdown",
   "metadata": {},
   "source": [
    "## Decimal, Binary, Hexadecimal"
   ]
  },
  {
   "cell_type": "code",
   "execution_count": 7,
   "metadata": {},
   "outputs": [
    {
     "name": "stdout",
     "output_type": "stream",
     "text": [
      " 0 0000 0\n",
      " 1 0001 1\n",
      " 2 0010 2\n",
      " 3 0011 3\n",
      " 4 0100 4\n",
      " 5 0101 5\n",
      " 6 0110 6\n",
      " 7 0111 7\n",
      " 8 1000 8\n",
      " 9 1001 9\n",
      "10 1010 a\n",
      "11 1011 b\n",
      "12 1100 c\n",
      "13 1101 d\n",
      "14 1110 e\n",
      "15 1111 f\n"
     ]
    }
   ],
   "source": [
    "# Conversion table.\n",
    "for i in range(16):\n",
    "  print(f'{i:2} {i:04b} {i:x}')"
   ]
  },
  {
   "cell_type": "markdown",
   "metadata": {},
   "source": [
    "## Sequence 1\n",
    "\n",
    "48\n",
    "65\n",
    "6c\n",
    "6c\n",
    "6f\n",
    "2c\n",
    "20\n",
    "77\n",
    "6f\n",
    "72\n",
    "6c\n",
    "64\n",
    "21"
   ]
  },
  {
   "cell_type": "code",
   "execution_count": 8,
   "metadata": {},
   "outputs": [],
   "source": [
    "data = [\n",
    "  0x48, 0x65, 0x6c, 0x6c, 0x6f, 0x2c, 0x20,\n",
    "  0x77, 0x6f, 0x72, 0x6c, 0x64, 0x21\n",
    "]"
   ]
  },
  {
   "cell_type": "code",
   "execution_count": 14,
   "metadata": {},
   "outputs": [
    {
     "name": "stdout",
     "output_type": "stream",
     "text": [
      "H\n",
      "e\n",
      "l\n",
      "l\n",
      "o\n",
      ",\n",
      " \n",
      "w\n",
      "o\n",
      "r\n",
      "l\n",
      "d\n",
      "!\n"
     ]
    }
   ],
   "source": [
    "# Loop through the bytes and convert using ascii table.\n",
    "for d in data:\n",
    "  print(chr(d))"
   ]
  },
  {
   "cell_type": "code",
   "execution_count": 15,
   "metadata": {},
   "outputs": [
    {
     "data": {
      "text/plain": [
       "'Hello, world!'"
      ]
     },
     "execution_count": 15,
     "metadata": {},
     "output_type": "execute_result"
    }
   ],
   "source": [
    "# A quicker way.\n",
    "''.join([chr(d) for d in data])"
   ]
  },
  {
   "cell_type": "markdown",
   "metadata": {},
   "source": [
    "## Sequence 2\n",
    "\n",
    "00\n",
    "01\n",
    "03\n",
    "06\n",
    "0a\n",
    "0f\n",
    "15\n",
    "1c\n",
    "24\n",
    "2d\n",
    "37\n",
    "42\n",
    "4e"
   ]
  },
  {
   "cell_type": "code",
   "execution_count": 16,
   "metadata": {},
   "outputs": [],
   "source": [
    "data = [\n",
    "  0x00, 0x01, 0x03, 0x06, 0x0a, 0x0f, 0x15,\n",
    "  0x1c, 0x24, 0x2d, 0x37, 0x42, 0x4e,\n",
    "]"
   ]
  },
  {
   "cell_type": "code",
   "execution_count": 17,
   "metadata": {},
   "outputs": [
    {
     "data": {
      "text/plain": [
       "'\\x00\\x01\\x03\\x06\\n\\x0f\\x15\\x1c$-7BN'"
      ]
     },
     "execution_count": 17,
     "metadata": {},
     "output_type": "execute_result"
    }
   ],
   "source": [
    "# Try to convert to ascii.\n",
    "''.join([chr(d) for d in data])"
   ]
  },
  {
   "cell_type": "code",
   "execution_count": 19,
   "metadata": {},
   "outputs": [
    {
     "data": {
      "text/plain": [
       "[0, 1, 3, 6, 10, 15, 21, 28, 36, 45, 55, 66, 78]"
      ]
     },
     "execution_count": 19,
     "metadata": {},
     "output_type": "execute_result"
    }
   ],
   "source": [
    "# Show the array as ints.\n",
    "data"
   ]
  },
  {
   "cell_type": "markdown",
   "metadata": {},
   "source": [
    "## How Many Different Symbols can we Represent with one Byte?"
   ]
  },
  {
   "cell_type": "markdown",
   "metadata": {},
   "source": [
    "One byte is eight bits.\n",
    "Each bit has two possible values: 0 or 1.\n",
    "\n",
    "### Example\n",
    "\n",
    "Two bits:\n",
    "\n",
    "_ _\n",
    "\n",
    "0 0\n",
    "\n",
    "0 1\n",
    "\n",
    "1 0\n",
    "\n",
    "1 1\n",
    "\n",
    "Four different \"things\" can be represented by two bits.\n",
    "\n",
    "### Formula\n",
    "\n",
    "$n$ bits give $2^n$ things"
   ]
  },
  {
   "cell_type": "code",
   "execution_count": 1,
   "metadata": {},
   "outputs": [
    {
     "data": {
      "text/plain": [
       "256"
      ]
     },
     "execution_count": 1,
     "metadata": {},
     "output_type": "execute_result"
    }
   ],
   "source": [
    "# Number of different bytes.\n",
    "2**8"
   ]
  },
  {
   "cell_type": "markdown",
   "metadata": {},
   "source": [
    "#### End"
   ]
  }
 ],
 "metadata": {
  "kernelspec": {
   "display_name": "base",
   "language": "python",
   "name": "python3"
  },
  "language_info": {
   "codemirror_mode": {
    "name": "ipython",
    "version": 3
   },
   "file_extension": ".py",
   "mimetype": "text/x-python",
   "name": "python",
   "nbconvert_exporter": "python",
   "pygments_lexer": "ipython3",
   "version": "3.12.1"
  }
 },
 "nbformat": 4,
 "nbformat_minor": 2
}

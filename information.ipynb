{
 "cells": [
  {
   "cell_type": "markdown",
   "metadata": {},
   "source": [
    "# Information"
   ]
  },
  {
   "cell_type": "code",
   "execution_count": 14,
   "metadata": {},
   "outputs": [],
   "source": [
    "# Log.\n",
    "import math\n",
    "\n",
    "# Numerical arrays.\n",
    "import numpy as np\n",
    "\n",
    "# Plots.\n",
    "import matplotlib.pyplot as plt"
   ]
  },
  {
   "cell_type": "markdown",
   "metadata": {},
   "source": [
    "## Decimal, Binary, Hexadecimal"
   ]
  },
  {
   "cell_type": "code",
   "execution_count": 2,
   "metadata": {},
   "outputs": [
    {
     "name": "stdout",
     "output_type": "stream",
     "text": [
      " 0 0000 0\n",
      " 1 0001 1\n",
      " 2 0010 2\n",
      " 3 0011 3\n",
      " 4 0100 4\n",
      " 5 0101 5\n",
      " 6 0110 6\n",
      " 7 0111 7\n",
      " 8 1000 8\n",
      " 9 1001 9\n",
      "10 1010 a\n",
      "11 1011 b\n",
      "12 1100 c\n",
      "13 1101 d\n",
      "14 1110 e\n",
      "15 1111 f\n"
     ]
    }
   ],
   "source": [
    "# Conversion table.\n",
    "for i in range(16):\n",
    "  print(f'{i:2} {i:04b} {i:x}')"
   ]
  },
  {
   "cell_type": "markdown",
   "metadata": {},
   "source": [
    "## Sequence 1\n",
    "\n",
    "48\n",
    "65\n",
    "6c\n",
    "6c\n",
    "6f\n",
    "2c\n",
    "20\n",
    "77\n",
    "6f\n",
    "72\n",
    "6c\n",
    "64\n",
    "21"
   ]
  },
  {
   "cell_type": "code",
   "execution_count": 3,
   "metadata": {},
   "outputs": [],
   "source": [
    "data = [\n",
    "  0x48, 0x65, 0x6c, 0x6c, 0x6f, 0x2c, 0x20,\n",
    "  0x77, 0x6f, 0x72, 0x6c, 0x64, 0x21\n",
    "]"
   ]
  },
  {
   "cell_type": "code",
   "execution_count": 4,
   "metadata": {},
   "outputs": [
    {
     "name": "stdout",
     "output_type": "stream",
     "text": [
      "H\n",
      "e\n",
      "l\n",
      "l\n",
      "o\n",
      ",\n",
      " \n",
      "w\n",
      "o\n",
      "r\n",
      "l\n",
      "d\n",
      "!\n"
     ]
    }
   ],
   "source": [
    "# Loop through the bytes and convert using ascii table.\n",
    "for d in data:\n",
    "  print(chr(d))"
   ]
  },
  {
   "cell_type": "code",
   "execution_count": 5,
   "metadata": {},
   "outputs": [
    {
     "data": {
      "text/plain": [
       "'Hello, world!'"
      ]
     },
     "execution_count": 5,
     "metadata": {},
     "output_type": "execute_result"
    }
   ],
   "source": [
    "# A quicker way.\n",
    "''.join([chr(d) for d in data])"
   ]
  },
  {
   "cell_type": "markdown",
   "metadata": {},
   "source": [
    "## Sequence 2\n",
    "\n",
    "00\n",
    "01\n",
    "03\n",
    "06\n",
    "0a\n",
    "0f\n",
    "15\n",
    "1c\n",
    "24\n",
    "2d\n",
    "37\n",
    "42\n",
    "4e"
   ]
  },
  {
   "cell_type": "code",
   "execution_count": 6,
   "metadata": {},
   "outputs": [],
   "source": [
    "data = [\n",
    "  0x00, 0x01, 0x03, 0x06, 0x0a, 0x0f, 0x15,\n",
    "  0x1c, 0x24, 0x2d, 0x37, 0x42, 0x4e,\n",
    "]"
   ]
  },
  {
   "cell_type": "code",
   "execution_count": 7,
   "metadata": {},
   "outputs": [
    {
     "data": {
      "text/plain": [
       "'\\x00\\x01\\x03\\x06\\n\\x0f\\x15\\x1c$-7BN'"
      ]
     },
     "execution_count": 7,
     "metadata": {},
     "output_type": "execute_result"
    }
   ],
   "source": [
    "# Try to convert to ascii.\n",
    "''.join([chr(d) for d in data])"
   ]
  },
  {
   "cell_type": "code",
   "execution_count": 8,
   "metadata": {},
   "outputs": [
    {
     "data": {
      "text/plain": [
       "[0, 1, 3, 6, 10, 15, 21, 28, 36, 45, 55, 66, 78]"
      ]
     },
     "execution_count": 8,
     "metadata": {},
     "output_type": "execute_result"
    }
   ],
   "source": [
    "# Show the array as ints.\n",
    "data"
   ]
  },
  {
   "cell_type": "markdown",
   "metadata": {},
   "source": [
    "## How Many Different Symbols can we Represent with one Byte?"
   ]
  },
  {
   "cell_type": "markdown",
   "metadata": {},
   "source": [
    "One byte is eight bits.\n",
    "Each bit has two possible values: 0 or 1.\n",
    "\n",
    "### Example\n",
    "\n",
    "Two bits:\n",
    "\n",
    "_ _\n",
    "\n",
    "0 0\n",
    "\n",
    "0 1\n",
    "\n",
    "1 0\n",
    "\n",
    "1 1\n",
    "\n",
    "Four different \"things\" can be represented by two bits.\n",
    "\n",
    "### Formula\n",
    "\n",
    "$n$ bits give $2^n$ things"
   ]
  },
  {
   "cell_type": "code",
   "execution_count": 9,
   "metadata": {},
   "outputs": [
    {
     "data": {
      "text/plain": [
       "256"
      ]
     },
     "execution_count": 9,
     "metadata": {},
     "output_type": "execute_result"
    }
   ],
   "source": [
    "# Number of different bytes.\n",
    "2**8"
   ]
  },
  {
   "cell_type": "markdown",
   "metadata": {},
   "source": [
    "## How Many Bits do I need to Represent the 26 Letters of the Alphabet?"
   ]
  },
  {
   "cell_type": "code",
   "execution_count": 10,
   "metadata": {},
   "outputs": [
    {
     "data": {
      "text/plain": [
       "'11001'"
      ]
     },
     "execution_count": 10,
     "metadata": {},
     "output_type": "execute_result"
    }
   ],
   "source": [
    "# Twenty-five in binary.\n",
    "f'{25:b}'"
   ]
  },
  {
   "cell_type": "code",
   "execution_count": 11,
   "metadata": {},
   "outputs": [
    {
     "data": {
      "text/plain": [
       "'11111'"
      ]
     },
     "execution_count": 11,
     "metadata": {},
     "output_type": "execute_result"
    }
   ],
   "source": [
    "# Including space, full stop, comma, new line, etc.\n",
    "f'{31:b}'"
   ]
  },
  {
   "cell_type": "code",
   "execution_count": 12,
   "metadata": {},
   "outputs": [
    {
     "data": {
      "text/plain": [
       "5"
      ]
     },
     "execution_count": 12,
     "metadata": {},
     "output_type": "execute_result"
    }
   ],
   "source": [
    "# How many bits are needed to represent the alphabet?\n",
    "math.ceil(math.log2(26))"
   ]
  },
  {
   "cell_type": "code",
   "execution_count": 13,
   "metadata": {},
   "outputs": [
    {
     "data": {
      "text/plain": [
       "32"
      ]
     },
     "execution_count": 13,
     "metadata": {},
     "output_type": "execute_result"
    }
   ],
   "source": [
    "# How many messages can we represent with 5 bits?\n",
    "2**5"
   ]
  },
  {
   "cell_type": "markdown",
   "metadata": {},
   "source": [
    "## Entropy"
   ]
  },
  {
   "cell_type": "markdown",
   "metadata": {},
   "source": [
    "$$ H = - \\sum_i p_i \\log_2 p_i $$"
   ]
  },
  {
   "cell_type": "markdown",
   "metadata": {},
   "source": [
    "### Single Bit\n",
    "\n",
    "$ p_0 $ is the probability that the bit is a 0.\n",
    "\n",
    "$ p_1 $ is the probability that the bit is a 1."
   ]
  },
  {
   "cell_type": "markdown",
   "metadata": {},
   "source": [
    "$$ H = - \\sum_i p_i \\log_2 p_i = - p_0 \\log_2 p_0 - p_1 \\log_2 p_1 $$"
   ]
  },
  {
   "cell_type": "markdown",
   "metadata": {},
   "source": [
    "$$ p_1 = 1 - p_0 $$"
   ]
  },
  {
   "cell_type": "markdown",
   "metadata": {},
   "source": [
    "$$ H = - p_0 \\log_2 p_0 - (1 - p_0) \\log_2 (1 - p_0) $$"
   ]
  },
  {
   "cell_type": "code",
   "execution_count": 17,
   "metadata": {},
   "outputs": [
    {
     "data": {
      "image/png": "[encoded data removed]",
      "text/plain": [
       "<Figure size 640x480 with 1 Axes>"
      ]
     },
     "metadata": {},
     "output_type": "display_data"
    }
   ],
   "source": [
    "# Create a new plot.\n",
    "fig, ax = plt.subplots()\n",
    "\n",
    "# Select a range of p0 values.\n",
    "p0 = np.linspace(0.0, 1.0, 100)[1:-1]\n",
    "\n",
    "# Calculate the entropy.\n",
    "H = -p0 * np.log2(p0) - (1 - p0) * np.log2(1 - p0)\n",
    "\n",
    "# Plot the entropy.\n",
    "plt.plot(p0, H);"
   ]
  },
  {
   "cell_type": "markdown",
   "metadata": {},
   "source": [
    "#### End"
   ]
  }
 ],
 "metadata": {
  "kernelspec": {
   "display_name": "base",
   "language": "python",
   "name": "python3"
  },
  "language_info": {
   "codemirror_mode": {
    "name": "ipython",
    "version": 3
   },
   "file_extension": ".py",
   "mimetype": "text/x-python",
   "name": "python",
   "nbconvert_exporter": "python",
   "pygments_lexer": "ipython3",
   "version": "3.12.1"
  }
 },
 "nbformat": 4,
 "nbformat_minor": 2
}

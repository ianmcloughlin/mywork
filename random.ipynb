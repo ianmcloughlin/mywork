{
 "cells": [
  {
   "cell_type": "markdown",
   "metadata": {},
   "source": [
    "# Random Numbers\n",
    "***"
   ]
  },
  {
   "cell_type": "markdown",
   "metadata": {},
   "source": [
    "## Prequisites\n",
    "\n",
    "***\n",
    "\n",
    "https://numpy.org/doc/stable/reference/random/index.html"
   ]
  },
  {
   "cell_type": "code",
   "execution_count": 1,
   "metadata": {},
   "outputs": [],
   "source": [
    "# Numerical arrays and random numbers.\n",
    "import numpy as np\n",
    "\n",
    "# Plot.\n",
    "import matplotlib.pyplot as plt"
   ]
  },
  {
   "cell_type": "markdown",
   "metadata": {},
   "source": [
    "## Generate Random Integers\n",
    "\n",
    "***"
   ]
  },
  {
   "cell_type": "code",
   "execution_count": 2,
   "metadata": {},
   "outputs": [],
   "source": [
    "rng = np.random.default_rng()"
   ]
  },
  {
   "cell_type": "code",
   "execution_count": 3,
   "metadata": {},
   "outputs": [
    {
     "data": {
      "text/plain": [
       "0.5161324655625904"
      ]
     },
     "execution_count": 3,
     "metadata": {},
     "output_type": "execute_result"
    }
   ],
   "source": [
    "# Generate one random float uniformly distributed over the range [0, 1)\n",
    "rng.random()"
   ]
  },
  {
   "cell_type": "code",
   "execution_count": 4,
   "metadata": {},
   "outputs": [
    {
     "data": {
      "text/plain": [
       "array([-1.29421102,  1.78065072, -1.84422062, -1.12080916,  0.75748586,\n",
       "        2.03329091,  1.11745324,  0.12734946,  0.15576321,  0.37394886])"
      ]
     },
     "execution_count": 4,
     "metadata": {},
     "output_type": "execute_result"
    }
   ],
   "source": [
    "# Generate an array of 10 numbers according to a unit Gaussian distribution.\n",
    "rng.standard_normal(10)"
   ]
  },
  {
   "cell_type": "code",
   "execution_count": 5,
   "metadata": {},
   "outputs": [
    {
     "data": {
      "text/plain": [
       "array([1, 6, 3, 2, 1], dtype=int64)"
      ]
     },
     "execution_count": 5,
     "metadata": {},
     "output_type": "execute_result"
    }
   ],
   "source": [
    "# Generate an array of 5 integers uniformly over the range [0, 10).\n",
    "rng.integers(low=0, high=10, size=5)"
   ]
  },
  {
   "cell_type": "code",
   "execution_count": 6,
   "metadata": {},
   "outputs": [
    {
     "data": {
      "text/plain": [
       "array([10,  7,  3, ...,  9,  9,  2], dtype=int64)"
      ]
     },
     "execution_count": 6,
     "metadata": {},
     "output_type": "execute_result"
    }
   ],
   "source": [
    "# Generate 10,000 integers over the range [0, 10).\n",
    "x = rng.integers(low=1, high=10, size=10000, endpoint=True)\n",
    "\n",
    "# Show x.\n",
    "x"
   ]
  },
  {
   "cell_type": "code",
   "execution_count": 7,
   "metadata": {},
   "outputs": [
    {
     "data": {
      "text/plain": [
       "(array([ 1,  2,  3,  4,  5,  6,  7,  8,  9, 10], dtype=int64),\n",
       " array([ 980,  965, 1013,  967, 1005, 1006,  990, 1019,  974, 1081],\n",
       "       dtype=int64))"
      ]
     },
     "execution_count": 7,
     "metadata": {},
     "output_type": "execute_result"
    }
   ],
   "source": [
    "# Get the counts.\n",
    "values, counts = np.unique(x, return_counts=True)\n",
    "\n",
    "# Show.\n",
    "values, counts"
   ]
  },
  {
   "cell_type": "code",
   "execution_count": 8,
   "metadata": {},
   "outputs": [
    {
     "data": {
      "text/plain": [
       "<BarContainer object of 10 artists>"
      ]
     },
     "execution_count": 8,
     "metadata": {},
     "output_type": "execute_result"
    },
    {
     "data": {
      "image/png": "[encoded data removed]",
      "text/plain": [
       "<Figure size 640x480 with 1 Axes>"
      ]
     },
     "metadata": {},
     "output_type": "display_data"
    }
   ],
   "source": [
    "# Plot the bar chart.\n",
    "plt.bar(values, counts, edgecolor='black')"
   ]
  },
  {
   "cell_type": "markdown",
   "metadata": {},
   "source": [
    "## Uniform Distribution\n",
    "\n",
    "***"
   ]
  },
  {
   "cell_type": "code",
   "execution_count": 9,
   "metadata": {},
   "outputs": [
    {
     "data": {
      "text/plain": [
       "array([9.5559608 , 2.95658366, 7.84963774, ..., 2.04968916, 1.07626569,\n",
       "       7.33627132])"
      ]
     },
     "execution_count": 9,
     "metadata": {},
     "output_type": "execute_result"
    }
   ],
   "source": [
    "# Generate 10,000 floats uniformly distributed over the range [0, 10).\n",
    "x = rng.uniform(low=0.0, high=10.0, size=10000)\n",
    "\n",
    "# Show.\n",
    "x"
   ]
  },
  {
   "cell_type": "code",
   "execution_count": 10,
   "metadata": {},
   "outputs": [
    {
     "data": {
      "text/plain": [
       "(array([7.15738227e-04, 7.70314358e-04, 9.05435106e-04, ...,\n",
       "        9.99821328e+00, 9.99928807e+00, 9.99969800e+00]),\n",
       " array([1, 1, 1, ..., 1, 1, 1], dtype=int64),\n",
       " 10000,\n",
       " 10000)"
      ]
     },
     "execution_count": 10,
     "metadata": {},
     "output_type": "execute_result"
    }
   ],
   "source": [
    "# Get the counts.\n",
    "values, counts = np.unique(x, return_counts=True)\n",
    "\n",
    "# Show.\n",
    "values, counts, values.size, counts.size"
   ]
  },
  {
   "cell_type": "code",
   "execution_count": 11,
   "metadata": {},
   "outputs": [
    {
     "data": {
      "text/plain": [
       "array([3.37372314, 9.2009953 , 9.62162924, 7.4636041 , 2.57861957,\n",
       "       1.62952134, 5.02979957, 1.2134066 , 6.24234555, 2.82726932,\n",
       "       5.30935394, 5.01793347, 7.13236572, 9.55069273, 3.06538823,\n",
       "       6.93448896, 9.84490474, 4.6408939 , 9.02544437, 1.88082279,\n",
       "       5.25192571, 6.77541528, 0.89524648, 4.43434898, 1.93650698,\n",
       "       6.93987775, 5.36520406, 8.99541742, 3.12316099, 3.04029023,\n",
       "       4.65686499, 0.30864606, 0.68341584, 6.20183049, 8.59540463,\n",
       "       4.74080706, 5.04149272, 3.65345084, 9.38408686, 7.82848351,\n",
       "       2.83814648, 2.47256437, 1.17834917, 5.34540122, 2.81923467,\n",
       "       6.94211395, 5.15517503, 3.77004073, 7.67762829, 7.3196166 ,\n",
       "       7.91589882, 4.85957427, 2.98440685, 8.90506215, 2.70261759,\n",
       "       9.5659144 , 6.45748822, 5.39963961, 8.07008958, 2.58152542,\n",
       "       9.68819882, 5.95253946, 0.44673672, 4.14219067, 4.02893552,\n",
       "       8.40044081, 0.22914834, 7.91429813, 1.71672717, 9.05708746,\n",
       "       1.71007682, 8.00560336, 8.6888375 , 5.87520632, 8.68445346,\n",
       "       2.92455444, 7.74275186, 2.09624775, 1.37477163, 2.15921486,\n",
       "       7.14597395, 4.05178878, 7.54971688, 4.76107801, 8.07503172,\n",
       "       0.76050147, 1.65209748, 8.23051492, 4.1474352 , 2.75406164,\n",
       "       3.17754936, 8.9798992 , 9.43518069, 2.67610732, 1.47370792,\n",
       "       8.2907661 , 3.21676562, 8.89740124, 5.20688372, 6.22773566])"
      ]
     },
     "execution_count": 11,
     "metadata": {},
     "output_type": "execute_result"
    }
   ],
   "source": [
    "# Generate 100 floats uniformly distributed over the range [0, 10).\n",
    "x = rng.uniform(low=0.0, high=10.0, size=100)\n",
    "\n",
    "# Show.\n",
    "x"
   ]
  },
  {
   "cell_type": "code",
   "execution_count": 12,
   "metadata": {},
   "outputs": [
    {
     "data": {
      "text/plain": [
       "(array([0.22914834, 0.30864606, 0.44673672, 0.68341584, 0.76050147,\n",
       "        0.89524648, 1.17834917, 1.2134066 , 1.37477163, 1.47370792,\n",
       "        1.62952134, 1.65209748, 1.71007682, 1.71672717, 1.88082279,\n",
       "        1.93650698, 2.09624775, 2.15921486, 2.47256437, 2.57861957,\n",
       "        2.58152542, 2.67610732, 2.70261759, 2.75406164, 2.81923467,\n",
       "        2.82726932, 2.83814648, 2.92455444, 2.98440685, 3.04029023,\n",
       "        3.06538823, 3.12316099, 3.17754936, 3.21676562, 3.37372314,\n",
       "        3.65345084, 3.77004073, 4.02893552, 4.05178878, 4.14219067,\n",
       "        4.1474352 , 4.43434898, 4.6408939 , 4.65686499, 4.74080706,\n",
       "        4.76107801, 4.85957427, 5.01793347, 5.02979957, 5.04149272,\n",
       "        5.15517503, 5.20688372, 5.25192571, 5.30935394, 5.34540122,\n",
       "        5.36520406, 5.39963961, 5.87520632, 5.95253946, 6.20183049,\n",
       "        6.22773566, 6.24234555, 6.45748822, 6.77541528, 6.93448896,\n",
       "        6.93987775, 6.94211395, 7.13236572, 7.14597395, 7.3196166 ,\n",
       "        7.4636041 , 7.54971688, 7.67762829, 7.74275186, 7.82848351,\n",
       "        7.91429813, 7.91589882, 8.00560336, 8.07008958, 8.07503172,\n",
       "        8.23051492, 8.2907661 , 8.40044081, 8.59540463, 8.68445346,\n",
       "        8.6888375 , 8.89740124, 8.90506215, 8.9798992 , 8.99541742,\n",
       "        9.02544437, 9.05708746, 9.2009953 , 9.38408686, 9.43518069,\n",
       "        9.55069273, 9.5659144 , 9.62162924, 9.68819882, 9.84490474]),\n",
       " array([1, 1, 1, 1, 1, 1, 1, 1, 1, 1, 1, 1, 1, 1, 1, 1, 1, 1, 1, 1, 1, 1,\n",
       "        1, 1, 1, 1, 1, 1, 1, 1, 1, 1, 1, 1, 1, 1, 1, 1, 1, 1, 1, 1, 1, 1,\n",
       "        1, 1, 1, 1, 1, 1, 1, 1, 1, 1, 1, 1, 1, 1, 1, 1, 1, 1, 1, 1, 1, 1,\n",
       "        1, 1, 1, 1, 1, 1, 1, 1, 1, 1, 1, 1, 1, 1, 1, 1, 1, 1, 1, 1, 1, 1,\n",
       "        1, 1, 1, 1, 1, 1, 1, 1, 1, 1, 1, 1], dtype=int64),\n",
       " 100,\n",
       " 100)"
      ]
     },
     "execution_count": 12,
     "metadata": {},
     "output_type": "execute_result"
    }
   ],
   "source": [
    "# Get the counts.\n",
    "values, counts = np.unique(x, return_counts=True)\n",
    "\n",
    "# Show.\n",
    "values, counts, values.size, counts.size"
   ]
  },
  {
   "cell_type": "code",
   "execution_count": 13,
   "metadata": {},
   "outputs": [
    {
     "data": {
      "text/plain": [
       "<BarContainer object of 100 artists>"
      ]
     },
     "execution_count": 13,
     "metadata": {},
     "output_type": "execute_result"
    },
    {
     "data": {
      "image/png": "[encoded data removed]",
      "text/plain": [
       "<Figure size 640x480 with 1 Axes>"
      ]
     },
     "metadata": {},
     "output_type": "display_data"
    }
   ],
   "source": [
    "# Plot the bar chart.\n",
    "plt.bar(values, counts, edgecolor='black')"
   ]
  },
  {
   "cell_type": "code",
   "execution_count": 14,
   "metadata": {},
   "outputs": [
    {
     "data": {
      "text/plain": [
       "(array([ 0.,  1.,  2.,  3.,  4.,  5.,  6.,  7.,  8.,  9., 10.]),\n",
       " array([ 3,  7,  9, 16,  7, 15,  6,  8, 12, 12,  5], dtype=int64),\n",
       " 11,\n",
       " 11)"
      ]
     },
     "execution_count": 14,
     "metadata": {},
     "output_type": "execute_result"
    }
   ],
   "source": [
    "# Round values in x.\n",
    "x_rounded = np.round(x, decimals=0)\n",
    "\n",
    "# Get the counts.\n",
    "values, counts = np.unique(x_rounded, return_counts=True)\n",
    "\n",
    "# Show.\n",
    "values, counts, values.size, counts.size"
   ]
  },
  {
   "cell_type": "code",
   "execution_count": 15,
   "metadata": {},
   "outputs": [
    {
     "data": {
      "text/plain": [
       "<BarContainer object of 11 artists>"
      ]
     },
     "execution_count": 15,
     "metadata": {},
     "output_type": "execute_result"
    },
    {
     "data": {
      "image/png": "[encoded data removed]",
      "text/plain": [
       "<Figure size 640x480 with 1 Axes>"
      ]
     },
     "metadata": {},
     "output_type": "display_data"
    }
   ],
   "source": [
    "# Plot the bar chart.\n",
    "plt.bar(values, counts, edgecolor='black')"
   ]
  },
  {
   "cell_type": "code",
   "execution_count": null,
   "metadata": {},
   "outputs": [],
   "source": []
  },
  {
   "cell_type": "markdown",
   "metadata": {},
   "source": [
    "***\n",
    "#### End"
   ]
  }
 ],
 "metadata": {
  "kernelspec": {
   "display_name": "base",
   "language": "python",
   "name": "python3"
  },
  "language_info": {
   "codemirror_mode": {
    "name": "ipython",
    "version": 3
   },
   "file_extension": ".py",
   "mimetype": "text/x-python",
   "name": "python",
   "nbconvert_exporter": "python",
   "pygments_lexer": "ipython3",
   "version": "3.11.5"
  }
 },
 "nbformat": 4,
 "nbformat_minor": 2
}
